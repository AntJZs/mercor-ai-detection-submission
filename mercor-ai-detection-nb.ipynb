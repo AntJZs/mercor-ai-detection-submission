{
 "cells": [
  {
   "cell_type": "code",
   "execution_count": null,
   "id": "8c87f95c",
   "metadata": {},
   "outputs": [],
   "source": [
    " ! pip install matplotlib\n",
    " ! pip install scikit-learn"
   ]
  },
  {
   "cell_type": "code",
   "execution_count": 5,
   "id": "6541a931-536a-433a-adf6-a0d10de05cc6",
   "metadata": {
    "scrolled": true
   },
   "outputs": [],
   "source": [
    "# Importacion de librerias \n",
    "import pandas as pd # Manipulacion de los datos\n",
    "import numpy as np\n",
    "import matplotlib.pyplot as plt\n",
    "\n",
    "from sklearn.model_selection import train_test_split\n",
    "from sklearn.feature_extraction.text import TfidfVectorizer\n",
    "from sklearn.linear_model import LogisticRegression\n",
    "from sklearn.metrics import roc_auc_score\n",
    "\n",
    "# Importacion de expresiones regulares\n",
    "import re"
   ]
  },
  {
   "cell_type": "markdown",
   "id": "d00aa7b3",
   "metadata": {},
   "source": [
    "## Leer Datos en Kaggle"
   ]
  },
  {
   "cell_type": "code",
   "execution_count": null,
   "id": "48763a1c",
   "metadata": {},
   "outputs": [],
   "source": [
    "df_train=pd.read_csv('/kaggle/input/mercor-ai-detection/train.csv')\n",
    "df_test=pd.read_csv('/kaggle/input/mercor-ai-detection/test.csv')\n",
    "sample=pd.read_csv('/kaggle/input/mercor-ai-detection/sample_submission.csv')"
   ]
  },
  {
   "cell_type": "markdown",
   "id": "a1e13ef6",
   "metadata": {},
   "source": [
    "## Vision General"
   ]
  },
  {
   "cell_type": "code",
   "execution_count": null,
   "id": "06a4edee",
   "metadata": {},
   "outputs": [],
   "source": [
    "df_train.sample(5)\n",
    "print(f\"Tamaño de train: {df_train.shape}\");\n",
    "print(f\"Tamaño de Test:{df_test.shape}\");"
   ]
  },
  {
   "cell_type": "markdown",
   "id": "20568af1",
   "metadata": {},
   "source": [
    "## EMPEZAMOS CON LA  LIMPIEZA Y NORMALIZACION DE DATOS"
   ]
  },
  {
   "cell_type": "code",
   "execution_count": null,
   "id": "cefe115a",
   "metadata": {},
   "outputs": [],
   "source": [
    "# Creamos una funcion que quitas texto crudos con url \n",
    "# Nos apoyamos de las expresiones regulares \n",
    "def limpieza_texto(text):\n",
    "    text= str(text).lower()\n",
    "    text= re.sub(r\"http\\S+\",\" \",text) # removemos las urls\n",
    "    text= re.sub(r\"[^A-z\\s]\",\" \",text) # removemos todo lo que no sea una letra o espacio \n",
    "    text= re.sub(r\"\\s+\", \" \", text).strip() # Eliminamos espacios consecutivos al inicio y al final\n",
    "    return text\n",
    "\n",
    "\n",
    "# Utilizamos la funcion en los dataframe\n",
    "df_train[\"Limpieza_texto\"] = (df_train[\"topic\"].fillna(\"\") + \" \" + df_train[\"answer\"].fillna(\"\")).apply(limpieza_texto)\n",
    "df_test[\"Limpieza_texto\"]  = (df_test[\"topic\"].fillna(\"\")  + \" \" + df_test[\"answer\"].fillna(\"\")).apply(limpieza_texto)\n",
    "\n",
    "print(\"------Limpieza completa------\")\n",
    "print(df_train[\"Limpieza_texto\"].head(3))\n",
    "d"
   ]
  }
 ],
 "metadata": {
  "kernelspec": {
   "display_name": "Python 3",
   "language": "python",
   "name": "python3"
  },
  "language_info": {
   "codemirror_mode": {
    "name": "ipython",
    "version": 3
   },
   "file_extension": ".py",
   "mimetype": "text/x-python",
   "name": "python",
   "nbconvert_exporter": "python",
   "pygments_lexer": "ipython3",
   "version": "3.13.5"
  }
 },
 "nbformat": 4,
 "nbformat_minor": 5
}

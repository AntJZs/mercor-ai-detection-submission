{
 "cells": [
  {
   "cell_type": "code",
   "execution_count": null,
   "id": "6541a931-536a-433a-adf6-a0d10de05cc6",
   "metadata": {
    "scrolled": true
   },
   "outputs": [],
   "source": [
    "# Importacion de librerias \n",
    "import pandas as pd # Manipulacion de los datos\n",
    "import numpy as np\n",
    "import matplotlib.pyplot as plt\n",
    "\n",
    "from sklearn.model_selection import train_test_split\n",
    "from sklearn.feature_extraction.text import TfidfVectorizer\n",
    "from sklearn.linear_model import LogisticRegression\n",
    "from sklearn.metrics import roc_auc_score\n",
    "\n",
    "# Importacion de expresiones regulares\n",
    "import re\n",
    "import os"
   ]
  },
  {
   "cell_type": "code",
   "execution_count": null,
   "id": "342b539a-f6b3-47a2-9961-e337e99dc895",
   "metadata": {},
   "outputs": [],
   "source": [
    "# If a kaggle keyfile is provided\n",
    "if os.path.exists('/kaggle/keyfile/kaggle.json'):\n",
    "    import kaggle\n",
    "    !kaggle competitions download -c mercor-ai-detection"
   ]
  },
  {
   "cell_type": "code",
   "execution_count": null,
   "id": "10c3aec1-2bfc-4957-8189-e6d6d98ea8be",
   "metadata": {},
   "outputs": [],
   "source": [
    "# Verify if the files exist before reading\n",
    "if os.path.exists('./train.csv') and os.path.exists('./test.csv'):\n",
    "    raw_train_data = pd.read_csv('./train.csv')\n",
    "    raw_test_data = pd.read_csv('./test.csv')"
   ]
  },
  {
   "cell_type": "code",
   "execution_count": null,
   "id": "a408b44f-276b-4264-849e-00fe51817692",
   "metadata": {
    "scrolled": true
   },
   "outputs": [],
   "source": []
  },
  {
   "cell_type": "code",
   "execution_count": null,
   "id": "05737b15-47f1-4101-af0a-cffc2384c6bb",
   "metadata": {},
   "outputs": [
    {
     "name": "stdout",
     "output_type": "stream",
     "text": [
      "/bin/bash: line 1: kaggle: command not found\n"
     ]
    }
   ],
   "source": [
    "# raw_train_data.set_index('id')"
   ]
  },
  {
   "cell_type": "code",
   "execution_count": 15,
   "id": "8496ea4b-1146-44f0-bace-3a7b69bc6d2e",
   "metadata": {},
   "outputs": [
    {
     "name": "stdout",
     "output_type": "stream",
     "text": [
      "/bin/bash: line 1: unzip: command not found\n"
     ]
    }
   ],
   "source": []
  },
  {
   "cell_type": "code",
   "execution_count": 16,
   "id": "ac261e0d-6897-4a95-8e96-3d716b55c5ad",
   "metadata": {},
   "outputs": [],
   "source": [
    "import pandas as pd"
   ]
  },
  {
   "cell_type": "code",
   "execution_count": 27,
   "id": "b83c65a7-faf0-4a86-ba3a-cd9cf9e6a2c3",
   "metadata": {},
   "outputs": [
    {
     "name": "stdout",
     "output_type": "stream",
     "text": [
      "A journalistic review piece about the top 6 ai robot butlers available on the market\n",
      "Robot Butlers in the year of 2025. What are they, what do they do, and where can you get one?\n",
      "\n",
      "In this short article, we bring the future into the present and review the top 6 AI robot butlers available on the market in 2025 and go through the top brands, models, their cost, and where you can buy one for your home. \n",
      "0\n"
     ]
    }
   ],
   "source": []
  }
 ],
 "metadata": {
  "kernelspec": {
   "display_name": "Python 3",
   "language": "python",
   "name": "python3"
  },
  "language_info": {
   "codemirror_mode": {
    "name": "ipython",
    "version": 3
   },
   "file_extension": ".py",
   "mimetype": "text/x-python",
   "name": "python",
   "nbconvert_exporter": "python",
   "pygments_lexer": "ipython3",
   "version": "3.12.10"
  }
 },
 "nbformat": 4,
 "nbformat_minor": 5
}

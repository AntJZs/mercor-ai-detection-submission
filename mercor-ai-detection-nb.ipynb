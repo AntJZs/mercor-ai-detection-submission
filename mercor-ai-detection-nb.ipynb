{
 "cells": [
  {
   "cell_type": "code",
   "execution_count": 4,
   "id": "8c87f95c",
   "metadata": {},
   "outputs": [
    {
     "name": "stdout",
     "output_type": "stream",
     "text": [
      "Requirement already satisfied: matplotlib in c:\\users\\danie\\appdata\\local\\programs\\python\\python313\\lib\\site-packages (3.10.7)\n",
      "Requirement already satisfied: contourpy>=1.0.1 in c:\\users\\danie\\appdata\\local\\programs\\python\\python313\\lib\\site-packages (from matplotlib) (1.3.3)\n",
      "Requirement already satisfied: cycler>=0.10 in c:\\users\\danie\\appdata\\local\\programs\\python\\python313\\lib\\site-packages (from matplotlib) (0.12.1)\n",
      "Requirement already satisfied: fonttools>=4.22.0 in c:\\users\\danie\\appdata\\local\\programs\\python\\python313\\lib\\site-packages (from matplotlib) (4.60.1)\n",
      "Requirement already satisfied: kiwisolver>=1.3.1 in c:\\users\\danie\\appdata\\local\\programs\\python\\python313\\lib\\site-packages (from matplotlib) (1.4.9)\n",
      "Requirement already satisfied: numpy>=1.23 in c:\\users\\danie\\appdata\\local\\programs\\python\\python313\\lib\\site-packages (from matplotlib) (2.3.1)\n",
      "Requirement already satisfied: packaging>=20.0 in c:\\users\\danie\\appdata\\local\\programs\\python\\python313\\lib\\site-packages (from matplotlib) (24.2)\n",
      "Requirement already satisfied: pillow>=8 in c:\\users\\danie\\appdata\\local\\programs\\python\\python313\\lib\\site-packages (from matplotlib) (11.2.1)\n",
      "Requirement already satisfied: pyparsing>=3 in c:\\users\\danie\\appdata\\local\\programs\\python\\python313\\lib\\site-packages (from matplotlib) (3.2.5)\n",
      "Requirement already satisfied: python-dateutil>=2.7 in c:\\users\\danie\\appdata\\local\\programs\\python\\python313\\lib\\site-packages (from matplotlib) (2.9.0.post0)\n",
      "Requirement already satisfied: six>=1.5 in c:\\users\\danie\\appdata\\local\\programs\\python\\python313\\lib\\site-packages (from python-dateutil>=2.7->matplotlib) (1.17.0)\n",
      "Requirement already satisfied: scikit-learn in c:\\users\\danie\\appdata\\local\\programs\\python\\python313\\lib\\site-packages (1.7.2)\n",
      "Requirement already satisfied: numpy>=1.22.0 in c:\\users\\danie\\appdata\\local\\programs\\python\\python313\\lib\\site-packages (from scikit-learn) (2.3.1)\n",
      "Requirement already satisfied: scipy>=1.8.0 in c:\\users\\danie\\appdata\\local\\programs\\python\\python313\\lib\\site-packages (from scikit-learn) (1.16.2)\n",
      "Requirement already satisfied: joblib>=1.2.0 in c:\\users\\danie\\appdata\\local\\programs\\python\\python313\\lib\\site-packages (from scikit-learn) (1.5.2)\n",
      "Requirement already satisfied: threadpoolctl>=3.1.0 in c:\\users\\danie\\appdata\\local\\programs\\python\\python313\\lib\\site-packages (from scikit-learn) (3.6.0)\n"
     ]
    }
   ],
   "source": [
    " ! pip install matplotlib\n",
    " ! pip install scikit-learn"
   ]
  },
  {
   "cell_type": "code",
   "execution_count": 5,
   "id": "6541a931-536a-433a-adf6-a0d10de05cc6",
   "metadata": {
    "scrolled": true
   },
   "outputs": [],
   "source": [
    "# Importacion de librerias \n",
    "import pandas as pd # Manipulacion de los datos\n",
    "import numpy as np\n",
    "import matplotlib.pyplot as plt\n",
    "\n",
    "from sklearn.model_selection import train_test_split\n",
    "from sklearn.feature_extraction.text import TfidfVectorizer\n",
    "from sklearn.linear_model import LogisticRegression\n",
    "from sklearn.metrics import roc_auc_score\n",
    "\n",
    "# Importacion de expresiones regulares\n",
    "import re"
   ]
  },
  {
   "cell_type": "markdown",
   "id": "d00aa7b3",
   "metadata": {},
   "source": [
    "## Leer Datos en Kaggle"
   ]
  },
  {
   "cell_type": "code",
   "execution_count": null,
   "id": "48763a1c",
   "metadata": {},
   "outputs": [],
   "source": [
    "df_train=pd.read_csv('/kaggle/input/mercor-ai-detection/train.csv')\n",
    "df_test=pd.read_csv('/kaggle/input/mercor-ai-detection/test.csv')\n",
    "sample=pd.read_csv('/kaggle/input/mercor-ai-detection/sample_submission.csv')"
   ]
  },
  {
   "cell_type": "markdown",
   "id": "a1e13ef6",
   "metadata": {},
   "source": [
    "## Vision General"
   ]
  },
  {
   "cell_type": "code",
   "execution_count": null,
   "id": "06a4edee",
   "metadata": {},
   "outputs": [],
   "source": [
    "df_train.sample(5)\n",
    "print(f\"Tamaño de train: {df_train.shape}\");\n",
    "print(f\"Tamaño de Test:{df_test.shape}\");"
   ]
  },
  {
   "cell_type": "markdown",
   "id": "20568af1",
   "metadata": {},
   "source": [
    "## EMPEZAMOS CON LA  LIMPIEZA Y nORMALIZACION DE DATOS"
   ]
  },
  {
   "cell_type": "code",
   "execution_count": null,
   "id": "cefe115a",
   "metadata": {},
   "outputs": [
    {
     "ename": "NameError",
     "evalue": "name 'df_train' is not defined",
     "output_type": "error",
     "traceback": [
      "\u001b[31m---------------------------------------------------------------------------\u001b[39m",
      "\u001b[31mNameError\u001b[39m                                 Traceback (most recent call last)",
      "\u001b[36mCell\u001b[39m\u001b[36m \u001b[39m\u001b[32mIn[2]\u001b[39m\u001b[32m, line 12\u001b[39m\n\u001b[32m      8\u001b[39m     \u001b[38;5;28;01mreturn\u001b[39;00m text\n\u001b[32m     11\u001b[39m \u001b[38;5;66;03m# Utilizamos la funcion en los dataframe\u001b[39;00m\n\u001b[32m---> \u001b[39m\u001b[32m12\u001b[39m df_train[\u001b[33m\"\u001b[39m\u001b[33mLimpieza_texto\u001b[39m\u001b[33m\"\u001b[39m] = (\u001b[43mdf_train\u001b[49m[\u001b[33m\"\u001b[39m\u001b[33mtopic\u001b[39m\u001b[33m\"\u001b[39m].fillna(\u001b[33m\"\u001b[39m\u001b[33m\"\u001b[39m) + \u001b[33m\"\u001b[39m\u001b[33m \u001b[39m\u001b[33m\"\u001b[39m + df_train[\u001b[33m\"\u001b[39m\u001b[33manswer\u001b[39m\u001b[33m\"\u001b[39m].fillna(\u001b[33m\"\u001b[39m\u001b[33m\"\u001b[39m)).apply(limpieza_texto)\n\u001b[32m     13\u001b[39m df_test[\u001b[33m\"\u001b[39m\u001b[33mLimpieza_texto\u001b[39m\u001b[33m\"\u001b[39m]  = (df_test[\u001b[33m\"\u001b[39m\u001b[33mtopic\u001b[39m\u001b[33m\"\u001b[39m].fillna(\u001b[33m\"\u001b[39m\u001b[33m\"\u001b[39m)  + \u001b[33m\"\u001b[39m\u001b[33m \u001b[39m\u001b[33m\"\u001b[39m + df_test[\u001b[33m\"\u001b[39m\u001b[33manswer\u001b[39m\u001b[33m\"\u001b[39m].fillna(\u001b[33m\"\u001b[39m\u001b[33m\"\u001b[39m)).apply(limpieza_texto)\n\u001b[32m     15\u001b[39m \u001b[38;5;28mprint\u001b[39m(\u001b[33m\"\u001b[39m\u001b[33m------Limpieza completa------\u001b[39m\u001b[33m\"\u001b[39m)\n",
      "\u001b[31mNameError\u001b[39m: name 'df_train' is not defined"
     ]
    }
   ],
   "source": [
    "# Creamos una funcion que quitas texto crudos con url \n",
    "# Nos apoyamos de las expresiones regulares \n",
    "def limpieza_texto(text):\n",
    "    text= str(text).lower()\n",
    "    text= re.sub(r\"http\\S+\",\" \",text) # removemos las urls\n",
    "    text= re.sub(r\"[^A-z\\s]\",\" \",text) # removemos todo lo que no sea una letra o espacio \n",
    "    text= re.sub(r\"\\s+\", \" \", text).strip() # Eliminamos espacios consecutivos al inicio y al final\n",
    "    return text\n",
    "\n",
    "\n",
    "# Utilizamos la funcion en los dataframe\n",
    "df_train[\"Limpieza_texto\"] = (df_train[\"topic\"].fillna(\"\") + \" \" + df_train[\"answer\"].fillna(\"\")).apply(limpieza_texto)\n",
    "df_test[\"Limpieza_texto\"]  = (df_test[\"topic\"].fillna(\"\")  + \" \" + df_test[\"answer\"].fillna(\"\")).apply(limpieza_texto)\n",
    "\n",
    "print(\"------Limpieza completa------\")\n",
    "print(df_train[\"Limpieza_texto\"].head(3))"
   ]
  }
 ],
 "metadata": {
  "kernelspec": {
   "display_name": "Python 3",
   "language": "python",
   "name": "python3"
  },
  "language_info": {
   "codemirror_mode": {
    "name": "ipython",
    "version": 3
   },
   "file_extension": ".py",
   "mimetype": "text/x-python",
   "name": "python",
   "nbconvert_exporter": "python",
   "pygments_lexer": "ipython3",
   "version": "3.13.5"
  }
 },
 "nbformat": 4,
 "nbformat_minor": 5
}

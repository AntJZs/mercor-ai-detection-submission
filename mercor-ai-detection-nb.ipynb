{
 "cells": [
  {
   "cell_type": "code",
   "execution_count": 4,
   "id": "6541a931-536a-433a-adf6-a0d10de05cc6",
   "metadata": {
    "scrolled": true
   },
   "outputs": [],
   "source": [
    "!pip install pydicom dipy --quiet\n",
    "import pandas as pd\n",
    "import numpy as np\n",
    "import seaborn as sb\n",
    "import pydicom"
   ]
  },
  {
   "cell_type": "code",
   "execution_count": null,
   "id": "342b539a-f6b3-47a2-9961-e337e99dc895",
   "metadata": {},
   "outputs": [],
   "source": [
    "# If a kaggle keyfile is provided\n",
    "import kaggle\n",
    "!kaggle competitions download -c mercor-ai-detection"
   ]
  },
  {
   "cell_type": "code",
   "execution_count": 11,
   "id": "10c3aec1-2bfc-4957-8189-e6d6d98ea8be",
   "metadata": {},
   "outputs": [],
   "source": [
    "raw_train_data = pd.read_csv('./train.csv')\n",
    "raw_test_data = pd.read_csv('./test.csv')"
   ]
  },
  {
   "cell_type": "code",
   "execution_count": 13,
   "id": "a408b44f-276b-4264-849e-00fe51817692",
   "metadata": {
    "scrolled": true
   },
   "outputs": [
    {
     "data": {
      "text/html": [
       "<div>\n",
       "<style scoped>\n",
       "    .dataframe tbody tr th:only-of-type {\n",
       "        vertical-align: middle;\n",
       "    }\n",
       "\n",
       "    .dataframe tbody tr th {\n",
       "        vertical-align: top;\n",
       "    }\n",
       "\n",
       "    .dataframe thead th {\n",
       "        text-align: right;\n",
       "    }\n",
       "</style>\n",
       "<table border=\"1\" class=\"dataframe\">\n",
       "  <thead>\n",
       "    <tr style=\"text-align: right;\">\n",
       "      <th></th>\n",
       "      <th>topic</th>\n",
       "      <th>answer</th>\n",
       "      <th>is_cheating</th>\n",
       "    </tr>\n",
       "    <tr>\n",
       "      <th>id</th>\n",
       "      <th></th>\n",
       "      <th></th>\n",
       "      <th></th>\n",
       "    </tr>\n",
       "  </thead>\n",
       "  <tbody>\n",
       "    <tr>\n",
       "      <th>form_r_d5TpupthGXvfy58LDIbkqp</th>\n",
       "      <td>A girl wakes from a dream and she is not sure ...</td>\n",
       "      <td>My eyes flew open, and the air around me feels...</td>\n",
       "      <td>1</td>\n",
       "    </tr>\n",
       "    <tr>\n",
       "      <th>form_r_AAABmK2rZBBbtfdHxzhBY4C4</th>\n",
       "      <td>A journalistic review piece about the top 6 ai...</td>\n",
       "      <td>Robot Butlers in the year of 2025. What are th...</td>\n",
       "      <td>0</td>\n",
       "    </tr>\n",
       "    <tr>\n",
       "      <th>form_r_Cz6IJIWUj1B7pdyO6zPhGF</th>\n",
       "      <td>The influence of fictional universities in cam...</td>\n",
       "      <td>In recent years, apparel featuring the names a...</td>\n",
       "      <td>1</td>\n",
       "    </tr>\n",
       "    <tr>\n",
       "      <th>form_r_AAABmKyCfdO6NLv8eqBPCYD_</th>\n",
       "      <td>Why do girls love horses</td>\n",
       "      <td>The moment before I hit the dirt, I thought we...</td>\n",
       "      <td>0</td>\n",
       "    </tr>\n",
       "    <tr>\n",
       "      <th>form_r_WS8I1NJpwvIcFL3Xv0Qhuc</th>\n",
       "      <td>Every year, a remote mountain town elects a ne...</td>\n",
       "      <td>In the valley of Eldermist, were the mountains...</td>\n",
       "      <td>1</td>\n",
       "    </tr>\n",
       "    <tr>\n",
       "      <th>...</th>\n",
       "      <td>...</td>\n",
       "      <td>...</td>\n",
       "      <td>...</td>\n",
       "    </tr>\n",
       "    <tr>\n",
       "      <th>form_r_AAABmJ_GmeENZ9gU3IFC5J3C</th>\n",
       "      <td>character in peril</td>\n",
       "      <td>Eguchi knew there wasn't much time. He had to ...</td>\n",
       "      <td>0</td>\n",
       "    </tr>\n",
       "    <tr>\n",
       "      <th>form_r_AAABmJ-N68Amwuo4HEBHcreE</th>\n",
       "      <td>How to be a Sports Data Analyst in 2025! A Com...</td>\n",
       "      <td>Newcastle just signed Gopaladesikan as the new...</td>\n",
       "      <td>0</td>\n",
       "    </tr>\n",
       "    <tr>\n",
       "      <th>form_r_AAABmJvW4Gk1Qlj6gENAirTJ</th>\n",
       "      <td>Main character heads out to fields to work onl...</td>\n",
       "      <td>Leaden skies greeted Sasha as she stepped from...</td>\n",
       "      <td>0</td>\n",
       "    </tr>\n",
       "    <tr>\n",
       "      <th>form_r_AAABmKkRtRTp6DhLF6VKdoUQ</th>\n",
       "      <td>The Charisma of K-drama as a Pop Culture</td>\n",
       "      <td>Behind every Korean drama airing in households...</td>\n",
       "      <td>0</td>\n",
       "    </tr>\n",
       "    <tr>\n",
       "      <th>form_r_AAABmKFTT92S0xIv0OFHGJJv</th>\n",
       "      <td>I For a short story, use the title, “Analog on...</td>\n",
       "      <td>“Analog on Vinyl”\\nI immediately recognized th...</td>\n",
       "      <td>0</td>\n",
       "    </tr>\n",
       "  </tbody>\n",
       "</table>\n",
       "<p>269 rows × 3 columns</p>\n",
       "</div>"
      ],
      "text/plain": [
       "                                                                             topic  \\\n",
       "id                                                                                   \n",
       "form_r_d5TpupthGXvfy58LDIbkqp    A girl wakes from a dream and she is not sure ...   \n",
       "form_r_AAABmK2rZBBbtfdHxzhBY4C4  A journalistic review piece about the top 6 ai...   \n",
       "form_r_Cz6IJIWUj1B7pdyO6zPhGF    The influence of fictional universities in cam...   \n",
       "form_r_AAABmKyCfdO6NLv8eqBPCYD_                           Why do girls love horses   \n",
       "form_r_WS8I1NJpwvIcFL3Xv0Qhuc    Every year, a remote mountain town elects a ne...   \n",
       "...                                                                            ...   \n",
       "form_r_AAABmJ_GmeENZ9gU3IFC5J3C                                 character in peril   \n",
       "form_r_AAABmJ-N68Amwuo4HEBHcreE  How to be a Sports Data Analyst in 2025! A Com...   \n",
       "form_r_AAABmJvW4Gk1Qlj6gENAirTJ  Main character heads out to fields to work onl...   \n",
       "form_r_AAABmKkRtRTp6DhLF6VKdoUQ           The Charisma of K-drama as a Pop Culture   \n",
       "form_r_AAABmKFTT92S0xIv0OFHGJJv  I For a short story, use the title, “Analog on...   \n",
       "\n",
       "                                                                            answer  \\\n",
       "id                                                                                   \n",
       "form_r_d5TpupthGXvfy58LDIbkqp    My eyes flew open, and the air around me feels...   \n",
       "form_r_AAABmK2rZBBbtfdHxzhBY4C4  Robot Butlers in the year of 2025. What are th...   \n",
       "form_r_Cz6IJIWUj1B7pdyO6zPhGF    In recent years, apparel featuring the names a...   \n",
       "form_r_AAABmKyCfdO6NLv8eqBPCYD_  The moment before I hit the dirt, I thought we...   \n",
       "form_r_WS8I1NJpwvIcFL3Xv0Qhuc    In the valley of Eldermist, were the mountains...   \n",
       "...                                                                            ...   \n",
       "form_r_AAABmJ_GmeENZ9gU3IFC5J3C  Eguchi knew there wasn't much time. He had to ...   \n",
       "form_r_AAABmJ-N68Amwuo4HEBHcreE  Newcastle just signed Gopaladesikan as the new...   \n",
       "form_r_AAABmJvW4Gk1Qlj6gENAirTJ  Leaden skies greeted Sasha as she stepped from...   \n",
       "form_r_AAABmKkRtRTp6DhLF6VKdoUQ  Behind every Korean drama airing in households...   \n",
       "form_r_AAABmKFTT92S0xIv0OFHGJJv  “Analog on Vinyl”\\nI immediately recognized th...   \n",
       "\n",
       "                                 is_cheating  \n",
       "id                                            \n",
       "form_r_d5TpupthGXvfy58LDIbkqp              1  \n",
       "form_r_AAABmK2rZBBbtfdHxzhBY4C4            0  \n",
       "form_r_Cz6IJIWUj1B7pdyO6zPhGF              1  \n",
       "form_r_AAABmKyCfdO6NLv8eqBPCYD_            0  \n",
       "form_r_WS8I1NJpwvIcFL3Xv0Qhuc              1  \n",
       "...                                      ...  \n",
       "form_r_AAABmJ_GmeENZ9gU3IFC5J3C            0  \n",
       "form_r_AAABmJ-N68Amwuo4HEBHcreE            0  \n",
       "form_r_AAABmJvW4Gk1Qlj6gENAirTJ            0  \n",
       "form_r_AAABmKkRtRTp6DhLF6VKdoUQ            0  \n",
       "form_r_AAABmKFTT92S0xIv0OFHGJJv            0  \n",
       "\n",
       "[269 rows x 3 columns]"
      ]
     },
     "execution_count": 13,
     "metadata": {},
     "output_type": "execute_result"
    }
   ],
   "source": [
    "# raw_train_data.set_index('id')"
   ]
  },
  {
   "cell_type": "code",
   "execution_count": 2,
   "id": "05737b15-47f1-4101-af0a-cffc2384c6bb",
   "metadata": {},
   "outputs": [
    {
     "name": "stdout",
     "output_type": "stream",
     "text": [
      "/bin/bash: line 1: kaggle: command not found\n"
     ]
    }
   ],
   "source": []
  },
  {
   "cell_type": "code",
   "execution_count": 15,
   "id": "8496ea4b-1146-44f0-bace-3a7b69bc6d2e",
   "metadata": {},
   "outputs": [
    {
     "name": "stdout",
     "output_type": "stream",
     "text": [
      "/bin/bash: line 1: unzip: command not found\n"
     ]
    }
   ],
   "source": []
  },
  {
   "cell_type": "code",
   "execution_count": 16,
   "id": "ac261e0d-6897-4a95-8e96-3d716b55c5ad",
   "metadata": {},
   "outputs": [],
   "source": [
    "import pandas as pd"
   ]
  },
  {
   "cell_type": "code",
   "execution_count": 27,
   "id": "b83c65a7-faf0-4a86-ba3a-cd9cf9e6a2c3",
   "metadata": {},
   "outputs": [
    {
     "name": "stdout",
     "output_type": "stream",
     "text": [
      "A journalistic review piece about the top 6 ai robot butlers available on the market\n",
      "Robot Butlers in the year of 2025. What are they, what do they do, and where can you get one?\n",
      "\n",
      "In this short article, we bring the future into the present and review the top 6 AI robot butlers available on the market in 2025 and go through the top brands, models, their cost, and where you can buy one for your home. \n",
      "0\n"
     ]
    }
   ],
   "source": []
  }
 ],
 "metadata": {
  "kernelspec": {
   "display_name": "Python 3 (ipykernel)",
   "language": "python",
   "name": "python3"
  },
  "language_info": {
   "codemirror_mode": {
    "name": "ipython",
    "version": 3
   },
   "file_extension": ".py",
   "mimetype": "text/x-python",
   "name": "python",
   "nbconvert_exporter": "python",
   "pygments_lexer": "ipython3",
   "version": "3.11.6"
  }
 },
 "nbformat": 4,
 "nbformat_minor": 5
}
